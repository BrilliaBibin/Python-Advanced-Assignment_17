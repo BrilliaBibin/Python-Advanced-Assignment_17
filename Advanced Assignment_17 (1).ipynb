{
 "cells": [
  {
   "cell_type": "raw",
   "id": "3782f48c-0968-4dd9-a53e-0e86baae0f59",
   "metadata": {},
   "source": [
    "Q1. Explain the difference between greedy and non-greedy syntax with visual terms in as few words as possible. What is the bare minimum effort required to transform a greedy pattern into a non-greedy one? What characters or characters can you introduce or change?\n",
    "\n",
    "          Greedy version, Python matches the longest possible string"
   ]
  },
  {
   "cell_type": "code",
   "execution_count": 1,
   "id": "5f7f5601-2963-4227-be76-e3f492939ab3",
   "metadata": {},
   "outputs": [
    {
     "name": "stdout",
     "output_type": "stream",
     "text": [
      "<Robot is the latest addition to the tech items> <Robot is very advanced> <Robot is a machine>\n"
     ]
    }
   ],
   "source": [
    "import re\n",
    "text = \"<Robot is the latest addition to the tech items> <Robot is very advanced> <Robot is a machine>\"\n",
    "greedyregobj=re.compile(r'<.*>')\n",
    "match=greedyregobj.search(text)\n",
    "print(match.group())"
   ]
  },
  {
   "cell_type": "raw",
   "id": "88a432bc-565d-4182-a05f-bd6d190fef4f",
   "metadata": {},
   "source": [
    "         The Non-greedy version of the regex, Python matches the shortest possible string"
   ]
  },
  {
   "cell_type": "code",
   "execution_count": 2,
   "id": "d309a287-48a5-464c-804e-f5ea403bfff6",
   "metadata": {},
   "outputs": [
    {
     "data": {
      "text/plain": [
       "'<Robot is the latest addition to the tech items>'"
      ]
     },
     "execution_count": 2,
     "metadata": {},
     "output_type": "execute_result"
    }
   ],
   "source": [
    "nongreedyregobj=re.compile(r'<Ro.*?>')\n",
    "match1=nongreedyregobj.search(text)\n",
    "match1.group()"
   ]
  },
  {
   "cell_type": "raw",
   "id": "6be0350b-4ebb-4566-8305-f790673fe1e7",
   "metadata": {},
   "source": [
    "Q2. When exactly does greedy versus non-greedy make a difference? What if you're looking for a non-greedy match but the only one available is greedy?\n",
    "\n",
    "        In the non-greedy version of the regex, Python matches the shortest possible string. In the greedy version, Python matches the longest possible string. If only non greedy match is available, we can use other filtering or pattern matching methods of regex and further identify the required pattern."
   ]
  },
  {
   "cell_type": "raw",
   "id": "05882bcb-51e4-44ad-b81c-b673aaec0ca6",
   "metadata": {},
   "source": [
    "Q3. In a simple match of a string, which looks only for one match and does not do any replacement, is the use of a nontagged group likely to make any practical difference?"
   ]
  },
  {
   "cell_type": "code",
   "execution_count": 3,
   "id": "ba38e1ac-f1a5-4702-bd95-7920d476bf21",
   "metadata": {},
   "outputs": [
    {
     "name": "stdout",
     "output_type": "stream",
     "text": [
      "Phone number found: 415\n",
      "Phone number found: 415\n"
     ]
    }
   ],
   "source": [
    "import re\n",
    "phoneNumRegex = re.compile(r'\\d\\d\\d')\n",
    "mo = phoneNumRegex.search('My number is 415-555-4242.')\n",
    "print('Phone number found: ' + mo.group()) # non tagged group\n",
    "print('Phone number found: ' + mo.group(0))"
   ]
  },
  {
   "cell_type": "raw",
   "id": "a708eff3-39a6-4a31-bb48-a09bb4b30de6",
   "metadata": {},
   "source": [
    "Q4. Describe a scenario in which using a nontagged category would have a significant impact on the program's outcomes."
   ]
  },
  {
   "cell_type": "code",
   "execution_count": 4,
   "id": "68a0eb04-fea9-4327-b5ac-c0d7cf2567f9",
   "metadata": {},
   "outputs": [
    {
     "data": {
      "text/plain": [
       "('135', '135')"
      ]
     },
     "execution_count": 4,
     "metadata": {},
     "output_type": "execute_result"
    }
   ],
   "source": [
    "import re\n",
    "text='135.135'\n",
    "pattern=r'(\\d+)(?:.)(\\d+)'\n",
    "regobj=re.compile(pattern)\n",
    "matobj=regobj.search(text)\n",
    "matobj.groups()"
   ]
  },
  {
   "cell_type": "raw",
   "id": "60c6505c-053b-432c-9d34-0f217df94cd9",
   "metadata": {},
   "source": [
    "           Here the '.' decimal is not tagged or captured.\n",
    "           It will useful in scenarios where the separator of value in a string is of no use and we need to capture only the\n",
    "values."
   ]
  },
  {
   "cell_type": "raw",
   "id": "c0311952-23ce-410e-9ebd-272470c2f5c3",
   "metadata": {},
   "source": [
    "Q5. Unlike a normal regex pattern, a look-ahead condition does not consume the characters it examines. Describe a situation in which this could make a difference in the results of your programme.\n",
    "\n",
    "           While counting the number of multiple lines or multiple sentence in a string the positive look ahead makes a difference, without which we won't get the correct count of lines or sentences in a string."
   ]
  },
  {
   "cell_type": "raw",
   "id": "1cd499bb-154c-4276-9bcf-9f45ed850ab4",
   "metadata": {},
   "source": [
    "Q6. In standard expressions, what is the difference between positive look-ahead and negative look-ahead?\n",
    "\n",
    "         Positive look ahead is an assertion continuing the search and extending the string e.g.pattern= r'abc(?=[A-Z])''. \n",
    "         Here after 'abc', ? is extending the search and says that in the remaining string, first identify the next charater should be capitalized character between A and Z, but doesnt consume it.\n",
    "         Example of Positive lookahead"
   ]
  },
  {
   "cell_type": "code",
   "execution_count": 5,
   "id": "0bf8dfe9-02bb-4bd7-bf3d-358e4be6b90a",
   "metadata": {},
   "outputs": [
    {
     "name": "stdout",
     "output_type": "stream",
     "text": [
      "Positive lookahead: ['abc']\n"
     ]
    }
   ],
   "source": [
    "import re\n",
    "pat=r'abc(?=[A-Z])'\n",
    "text=\"abcABCEF\"\n",
    "regobj=re.compile(pat)\n",
    "matobj=regobj.findall(text)\n",
    "print(\"Positive lookahead:\",matobj)"
   ]
  },
  {
   "cell_type": "raw",
   "id": "e0a2607e-406a-481e-97e8-92128a56540e",
   "metadata": {},
   "source": [
    "          Negative look head is also an assertion to exclude certain patterns e.g. pattern = r'abc(?!abc)', means identify a substring containing 'abc' which is not followed by another 'abc'\n",
    "          Example of Negative lookahead"
   ]
  },
  {
   "cell_type": "code",
   "execution_count": 6,
   "id": "1761de29-4dd9-48a2-a0cd-6466277fea4b",
   "metadata": {},
   "outputs": [
    {
     "name": "stdout",
     "output_type": "stream",
     "text": [
      "Negative look ahead: ['abc']\n"
     ]
    }
   ],
   "source": [
    "import re\n",
    "pat1=r'abc(?!abc)'\n",
    "text1=\"aeiouabcabc\"\n",
    "regobj1=re.compile(pat1)\n",
    "matobj1=regobj1.findall(text)\n",
    "print(\"Negative look ahead:\",matobj1) "
   ]
  },
  {
   "cell_type": "raw",
   "id": "1522be6e-7f56-468d-8ad8-beccf8239256",
   "metadata": {},
   "source": [
    "Q7. What is the benefit of referring to groups by name rather than by number in a standard expression?\n",
    "\n",
    "        The benifit of referring to the groups by name is that\n",
    "           1)The code is clear\n",
    "           2)It is easier to maimtain the code."
   ]
  },
  {
   "cell_type": "raw",
   "id": "36fc314f-e0ce-4dff-b3a4-d0ba6468985a",
   "metadata": {},
   "source": [
    "Q8. Can you identify repeated items within a target string using named groups, as in \"The cow jumped over the moon\"?"
   ]
  },
  {
   "cell_type": "code",
   "execution_count": 7,
   "id": "7904d38a-ff15-4265-ba3a-6f20384e01c7",
   "metadata": {},
   "outputs": [
    {
     "data": {
      "text/plain": [
       "['The', 'the']"
      ]
     },
     "execution_count": 7,
     "metadata": {},
     "output_type": "execute_result"
    }
   ],
   "source": [
    "import re\n",
    "text = \"The cow jumped over the moon\"\n",
    "regobj=re.compile(r'(?P<w1>The)',re.I)\n",
    "regobj.findall(text)"
   ]
  },
  {
   "cell_type": "raw",
   "id": "5ae9cf08-bafe-49d1-8ae5-131a408ae0a6",
   "metadata": {},
   "source": [
    "Q9. When parsing a string, what is at least one thing that the Scanner interface does for you that the re.findall feature does not?\n",
    "\n",
    "        re.search() method either returns None (if the pattern doesn’t match), or a re.MatchObject that contains    information about the matching part of the string. This method stops after the first match, so this is best suited for testing a regular expression more than extracting data,whereas Return all non-overlapping matches of pattern in string, as a list of strings. The string is scanned left to right, and matches are returned in the order found."
   ]
  },
  {
   "cell_type": "raw",
   "id": "8e2af266-047c-45d7-868e-774b53231250",
   "metadata": {},
   "source": [
    "Q10. Does a scanner object have to be named scanner?\n",
    "\n",
    "        The scanner object need not be named scanner. It may have any name."
   ]
  }
 ],
 "metadata": {
  "kernelspec": {
   "display_name": "Python 3 (ipykernel)",
   "language": "python",
   "name": "python3"
  },
  "language_info": {
   "codemirror_mode": {
    "name": "ipython",
    "version": 3
   },
   "file_extension": ".py",
   "mimetype": "text/x-python",
   "name": "python",
   "nbconvert_exporter": "python",
   "pygments_lexer": "ipython3",
   "version": "3.10.6"
  }
 },
 "nbformat": 4,
 "nbformat_minor": 5
}
